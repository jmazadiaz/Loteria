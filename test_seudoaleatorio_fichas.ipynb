{
 "cells": [
  {
   "cell_type": "code",
   "execution_count": 2,
   "id": "10e63df6",
   "metadata": {},
   "outputs": [],
   "source": [
    "from itertools import combinations\n",
    "from math import factorial\n",
    "\n",
    "#import OS\n",
    "import random\n",
    "import numpy as np\n",
    "import seaborn as sns\n",
    "import matplotlib.pyplot as plt"
   ]
  },
  {
   "cell_type": "code",
   "execution_count": 3,
   "id": "9741e5c6",
   "metadata": {},
   "outputs": [],
   "source": [
    "List = [1,   2,  3,  4,  5]\n",
    "P =    [.45, .25, .15, .1, .05]\n",
    "\n",
    "\n",
    "def gen_cartones(nfichas,tabs, metodo):# método = \"aleatorio\",\"unico\",\"mismos\"\n",
    "    tablas = []\n",
    "    checks =  []\n",
    "    if metodo == \"aleatorio\":\n",
    "        rng = np.random.default_rng()\n",
    "        for i in range(tabs):\n",
    "                tablas.append(rng.choice(range(1, nfichas), size=(6, 8), replace=False))\n",
    "                \n",
    "    elif metodo == \"unico\":\n",
    "        tablas.append(np.random.default_rng(1).choice(range(1, nfichas), size=(6, 8), replace=False))\n",
    "        rng = np.random.default_rng()\n",
    "    \n",
    "        for i in range(1,tabs):\n",
    "            tablas.append(rng.choice(range(1, nfichas), size=(6, 8), replace=False))\n",
    "        \n",
    "    elif metodo == \"mismos\":\n",
    "        for i in range(tabs):\n",
    "            rng = np.random.default_rng(i)\n",
    "            tablas.append(rng.choice(range(1, nfichas), size=(6, 8), replace=False))\n",
    "        \n",
    "    else:\n",
    "        print('método = \"aleatorio\",\"unico\",\"mismos\"')\n",
    "        \n",
    "      \n",
    "    check = np.zeros((tabs,6,8))\n",
    "    return (tablas, check)"
   ]
  },
  {
   "cell_type": "code",
   "execution_count": 5,
   "id": "6d7b696d",
   "metadata": {},
   "outputs": [
    {
     "data": {
      "text/plain": [
       "array([[66, 37, 28, 63,  6, 48, 18, 44],\n",
       "       [45,  2, 31, 70, 52, 10,  8, 59],\n",
       "       [ 3, 49, 61, 22, 50, 71, 40, 42],\n",
       "       [ 1, 34, 46, 73, 75, 76, 12, 41],\n",
       "       [79, 55, 21, 53, 56, 68, 33, 35],\n",
       "       [30, 57, 74, 15, 27, 67, 60, 23]])"
      ]
     },
     "execution_count": 5,
     "metadata": {},
     "output_type": "execute_result"
    }
   ],
   "source": [
    "# Normalizar cuenta\n",
    "tabs = gen_cartones(80,100,'mismos')\n",
    "tabs[0][0]"
   ]
  },
  {
   "cell_type": "code",
   "execution_count": 98,
   "id": "026d0318",
   "metadata": {},
   "outputs": [],
   "source": [
    "def cuenta_y_peso(tablas,porcentaje): # Calcula el peso en base a las fichas mas precentes\n",
    "    \n",
    "    cartones = []\n",
    "    \n",
    "    for tab in tablas[0]:\n",
    "        for card in tab:\n",
    "            cartones.append(card.tolist())\n",
    "\n",
    "    uni,count=np.unique(cartones,return_counts=True)\n",
    "   \n",
    "    for cart in tablas[0][0]:\n",
    "        for ficha in cart:\n",
    "            count[ficha-1] = count[ficha-1]+(count.max()*porcentaje/100)\n",
    "            \n",
    "    return (uni,count/count.sum()) # Variables unicas , Peso de fichas (Sum = 1) "
   ]
  },
  {
   "cell_type": "code",
   "execution_count": 119,
   "id": "38ff8152",
   "metadata": {},
   "outputs": [
    {
     "data": {
      "text/plain": [
       "79"
      ]
     },
     "metadata": {},
     "output_type": "display_data"
    },
    {
     "data": {
      "text/plain": [
       "79"
      ]
     },
     "metadata": {},
     "output_type": "display_data"
    },
    {
     "data": {
      "text/plain": [
       "(array([ 1,  2,  3,  4,  5,  6,  7,  8,  9, 10, 11, 12, 13, 14, 15, 16, 17,\n",
       "        18, 19, 20, 21, 22, 23, 24, 25, 26, 27, 28, 29, 30, 31, 32, 33, 34,\n",
       "        35, 36, 37, 38, 39, 40, 41, 42, 43, 44, 45, 46, 47, 48, 49, 50, 51,\n",
       "        52, 53, 54, 55, 56, 57, 58, 59, 60, 61, 62, 63, 64, 65, 66, 67, 68,\n",
       "        69, 70, 71, 72, 73, 74, 75, 76, 77, 78, 79]),\n",
       " array([0.01509163, 0.01437298, 0.01437298, 0.01042041, 0.00988142,\n",
       "        0.01293568, 0.00988142, 0.01437298, 0.01257636, 0.01275602,\n",
       "        0.01077973, 0.01131872, 0.01131872, 0.01077973, 0.01491197,\n",
       "        0.01042041, 0.01042041, 0.01275602, 0.01167805, 0.01257636,\n",
       "        0.01491197, 0.01383399, 0.01275602, 0.0109594 , 0.01131872,\n",
       "        0.01060007, 0.01347467, 0.0147323 , 0.01239669, 0.01383399,\n",
       "        0.01365433, 0.01113906, 0.01401365, 0.01455264, 0.01365433,\n",
       "        0.01024075, 0.01437298, 0.0109594 , 0.01167805, 0.01383399,\n",
       "        0.01365433, 0.01491197, 0.00916277, 0.01401365, 0.01401365,\n",
       "        0.01347467, 0.01203737, 0.01257636, 0.01383399, 0.0147323 ,\n",
       "        0.01042041, 0.01347467, 0.01221703, 0.01167805, 0.01491197,\n",
       "        0.01257636, 0.01401365, 0.01221703, 0.01491197, 0.01365433,\n",
       "        0.01329501, 0.01131872, 0.01383399, 0.01006109, 0.01006109,\n",
       "        0.01437298, 0.01401365, 0.01347467, 0.00934244, 0.01365433,\n",
       "        0.0147323 , 0.01113906, 0.01275602, 0.01437298, 0.01383399,\n",
       "        0.01401365, 0.00970176, 0.01042041, 0.01257636]))"
      ]
     },
     "execution_count": 119,
     "metadata": {},
     "output_type": "execute_result"
    }
   ],
   "source": [
    "lista, peso =cuenta_y_peso(tabs,30)\n",
    "display(len(lista), len(peso))\n",
    "lista,peso"
   ]
  },
  {
   "cell_type": "code",
   "execution_count": 120,
   "id": "b874ec4b",
   "metadata": {},
   "outputs": [
    {
     "name": "stdout",
     "output_type": "stream",
     "text": [
      "El maximo es 0.015091627739849083\n",
      "0.01437297879985627\n",
      "0.01437297879985627\n",
      "0.014732303269852677\n",
      "0.01383399209486166\n",
      "0.012935680919870643\n",
      "0.012576356449874237\n",
      "0.01275601868487244\n",
      "0.014013654329859864\n",
      "0.014013654329859864\n",
      "0.01437297879985627\n",
      "0.013654329859863456\n",
      "0.013654329859863456\n",
      "0.013474667624865252\n",
      "0.01275601868487244\n",
      "0.01437297879985627\n",
      "0.01491196550485088\n",
      "0.01437297879985627\n",
      "0.01383399209486166\n",
      "0.01329500538986705\n",
      "0.01383399209486166\n",
      "0.014732303269852677\n",
      "0.014732303269852677\n",
      "0.01383399209486166\n",
      "0.01491196550485088\n",
      "0.015091627739849083\n",
      "0.014552641034854473\n",
      "0.013474667624865252\n",
      "0.01275601868487244\n",
      "0.01383399209486166\n",
      "0.014013654329859864\n",
      "0.011318720804886813\n",
      "0.013654329859863456\n",
      "0.012576356449874237\n",
      "0.01491196550485088\n",
      "0.01491196550485088\n",
      "0.01221703197987783\n",
      "0.012576356449874237\n",
      "0.013474667624865252\n",
      "0.014013654329859864\n",
      "0.013654329859863456\n",
      "0.01383399209486166\n",
      "0.014013654329859864\n",
      "0.01437297879985627\n",
      "0.01491196550485088\n",
      "0.013474667624865252\n",
      "0.014013654329859864\n",
      "0.013654329859863456\n",
      "0.01275601868487244\n"
     ]
    }
   ],
   "source": [
    "print(f'El maximo es {peso.max()}')\n",
    "for cart in tabs[0][0]:\n",
    "    for ficha in cart:\n",
    "        print(peso[ficha-1])"
   ]
  },
  {
   "cell_type": "code",
   "execution_count": null,
   "id": "2899a70a",
   "metadata": {},
   "outputs": [],
   "source": [
    "uni,count=np.unique(tabs[0], return_counts=True)\n",
    "index = 37\n",
    "porcentaje=40\n",
    "count[index-1],uni[index-1]\n",
    "lista,peso\n"
   ]
  },
  {
   "cell_type": "code",
   "execution_count": 167,
   "id": "e1c758ed",
   "metadata": {},
   "outputs": [
    {
     "data": {
      "text/plain": [
       "79"
      ]
     },
     "execution_count": 167,
     "metadata": {},
     "output_type": "execute_result"
    }
   ],
   "source": [
    "nfichas = 80\n",
    "len(np.random.choice(lista,nfichas-1,replace=False, p=peso))"
   ]
  },
  {
   "cell_type": "code",
   "execution_count": null,
   "id": "a73931a0",
   "metadata": {},
   "outputs": [],
   "source": [
    "for cart in tabs[0][0]:\n",
    "        for ficha in cart:\n",
    "            count[ficha-1] = count.max()*(porcentaje/100)\n",
    "        "
   ]
  },
  {
   "cell_type": "code",
   "execution_count": 82,
   "id": "abea460e",
   "metadata": {},
   "outputs": [
    {
     "name": "stdout",
     "output_type": "stream",
     "text": [
      "66 67 28\n",
      "37 38 61\n",
      "28 29 69\n",
      "63 64 56\n",
      "6 7 55\n",
      "48 49 28\n",
      "18 19 65\n",
      "44 45 28\n",
      "45 46 28\n",
      "2 3 28\n",
      "31 32 62\n",
      "70 71 28\n",
      "52 53 28\n",
      "10 11 60\n",
      "8 9 70\n",
      "59 60 28\n",
      "3 4 58\n",
      "49 50 28\n",
      "61 62 63\n",
      "22 23 28\n",
      "50 51 58\n",
      "71 72 62\n",
      "40 41 28\n",
      "42 43 51\n",
      "1 2 28\n",
      "34 35 28\n",
      "46 47 67\n",
      "73 74 28\n",
      "75 76 28\n",
      "76 77 54\n",
      "12 13 63\n",
      "41 42 28\n"
     ]
    },
    {
     "ename": "IndexError",
     "evalue": "index 79 is out of bounds for axis 0 with size 79",
     "output_type": "error",
     "traceback": [
      "\u001b[0;31m---------------------------------------------------------------------------\u001b[0m",
      "\u001b[0;31mIndexError\u001b[0m                                Traceback (most recent call last)",
      "Cell \u001b[0;32mIn[82], line 3\u001b[0m\n\u001b[1;32m      1\u001b[0m \u001b[38;5;28;01mfor\u001b[39;00m cart \u001b[38;5;129;01min\u001b[39;00m tabs[\u001b[38;5;241m0\u001b[39m][\u001b[38;5;241m0\u001b[39m]:\n\u001b[1;32m      2\u001b[0m        \u001b[38;5;28;01mfor\u001b[39;00m ficha \u001b[38;5;129;01min\u001b[39;00m cart:\n\u001b[0;32m----> 3\u001b[0m            \u001b[38;5;28mprint\u001b[39m(ficha,\u001b[43muni\u001b[49m\u001b[43m[\u001b[49m\u001b[43mficha\u001b[49m\u001b[43m]\u001b[49m,count[ficha])\n",
      "\u001b[0;31mIndexError\u001b[0m: index 79 is out of bounds for axis 0 with size 79"
     ]
    }
   ],
   "source": [
    " for cart in tabs[0][0]:\n",
    "        for ficha in cart:\n",
    "            print(ficha,uni[ficha-1],count[ficha-1])"
   ]
  },
  {
   "cell_type": "code",
   "execution_count": null,
   "id": "eaf7dcfb",
   "metadata": {},
   "outputs": [],
   "source": [
    "# print(list(zip(uni,count))) # Esto es para ver la lista\n",
    "\n",
    "#count_norm=count/count.sum() # Para hacer el vector de peso#\n",
    "#count_norm.sum()\n",
    "\n",
    "#nfichas= 80\n",
    "#random.sample(range(1,nfichas+1), nfichas)# Lista de ficha\n",
    "#List = np.arange(1,nfichas,dtype=int)\n",
    "\n",
    "#np.random.choice(List,nfichas-1,replace=False, p=count_norm)\n",
    "\n",
    "#len(np.arange(1,nfichas+1,dtype=int))\n",
    "tabs = gen_cartones(80,100,'mismos')"
   ]
  },
  {
   "cell_type": "code",
   "execution_count": 61,
   "id": "e426d494",
   "metadata": {},
   "outputs": [
    {
     "data": {
      "text/plain": [
       "[<matplotlib.lines.Line2D at 0x7f7eee6d22d0>]"
      ]
     },
     "execution_count": 61,
     "metadata": {},
     "output_type": "execute_result"
    },
    {
     "data": {
      "image/png": "[encoded data removed]",
      "text/plain": [
       "<Figure size 640x480 with 1 Axes>"
      ]
     },
     "metadata": {},
     "output_type": "display_data"
    }
   ],
   "source": [
    "plt.plot(lista,peso)"
   ]
  },
  {
   "cell_type": "code",
   "execution_count": 18,
   "id": "5044b95b",
   "metadata": {},
   "outputs": [
    {
     "data": {
      "text/plain": [
       "(array([ 1,  2,  3,  4,  5,  6,  7,  8,  9, 10, 11, 12, 13, 14, 15, 16, 17,\n",
       "        18, 19, 20, 21, 22, 23, 24, 25, 26, 27, 28, 29, 30, 31, 32, 33, 34,\n",
       "        35, 36, 37, 38, 39, 40, 41, 42, 43, 44, 45, 46, 47, 48, 49, 50, 51,\n",
       "        52, 53, 54, 55, 56, 57, 58, 59, 60, 61, 62, 63, 64, 65, 66, 67, 68,\n",
       "        69, 70, 71, 72, 73, 74, 75, 76, 77, 78, 79]),\n",
       " array([68, 64, 64, 58, 55, 56, 55, 64, 70, 55, 60, 47, 63, 60, 67, 58, 58,\n",
       "        55, 65, 70, 67, 61, 55, 61, 63, 59, 59, 66, 69, 61, 60, 62, 62, 65,\n",
       "        60, 57, 64, 61, 65, 61, 60, 67, 51, 62, 62, 59, 67, 54, 61, 66, 58,\n",
       "        59, 52, 65, 67, 54, 62, 68, 67, 60, 58, 63, 61, 56, 56, 66, 62, 59,\n",
       "        52, 60, 66, 62, 55, 64, 61, 62, 54, 58, 54]))"
      ]
     },
     "execution_count": 18,
     "metadata": {},
     "output_type": "execute_result"
    }
   ],
   "source": [
    "\n"
   ]
  },
  {
   "cell_type": "code",
   "execution_count": 132,
   "id": "49c4076e",
   "metadata": {},
   "outputs": [
    {
     "ename": "ValueError",
     "evalue": "Sample larger than population or is negative",
     "output_type": "error",
     "traceback": [
      "\u001b[0;31m---------------------------------------------------------------------------\u001b[0m",
      "\u001b[0;31mValueError\u001b[0m                                Traceback (most recent call last)",
      "Cell \u001b[0;32mIn[132], line 2\u001b[0m\n\u001b[1;32m      1\u001b[0m nfichas\u001b[38;5;241m=\u001b[39m \u001b[38;5;241m80\u001b[39m\n\u001b[0;32m----> 2\u001b[0m \u001b[43mrandom\u001b[49m\u001b[38;5;241;43m.\u001b[39;49m\u001b[43msample\u001b[49m\u001b[43m(\u001b[49m\u001b[38;5;28;43mrange\u001b[39;49m\u001b[43m(\u001b[49m\u001b[38;5;241;43m1\u001b[39;49m\u001b[43m,\u001b[49m\u001b[43mnfichas\u001b[49m\u001b[43m)\u001b[49m\u001b[43m,\u001b[49m\u001b[43m \u001b[49m\u001b[43mnfichas\u001b[49m\u001b[43m)\u001b[49m\u001b[38;5;66;03m# Lista de ficha\u001b[39;00m\n\u001b[1;32m      3\u001b[0m random\u001b[38;5;241m.\u001b[39mchoices(List, weights\u001b[38;5;241m=\u001b[39m(\u001b[38;5;241m.1\u001b[39m, \u001b[38;5;241m.4\u001b[39m, \u001b[38;5;241m.2\u001b[39m, \u001b[38;5;241m.2\u001b[39m, \u001b[38;5;241m.1\u001b[39m), k\u001b[38;5;241m=\u001b[39m\u001b[38;5;241m5\u001b[39m)\n\u001b[1;32m      5\u001b[0m count\n",
      "File \u001b[0;32m~/miniconda3/envs/[jupyter]/lib/python3.11/random.py:453\u001b[0m, in \u001b[0;36mRandom.sample\u001b[0;34m(self, population, k, counts)\u001b[0m\n\u001b[1;32m    451\u001b[0m randbelow \u001b[38;5;241m=\u001b[39m \u001b[38;5;28mself\u001b[39m\u001b[38;5;241m.\u001b[39m_randbelow\n\u001b[1;32m    452\u001b[0m \u001b[38;5;28;01mif\u001b[39;00m \u001b[38;5;129;01mnot\u001b[39;00m \u001b[38;5;241m0\u001b[39m \u001b[38;5;241m<\u001b[39m\u001b[38;5;241m=\u001b[39m k \u001b[38;5;241m<\u001b[39m\u001b[38;5;241m=\u001b[39m n:\n\u001b[0;32m--> 453\u001b[0m     \u001b[38;5;28;01mraise\u001b[39;00m \u001b[38;5;167;01mValueError\u001b[39;00m(\u001b[38;5;124m\"\u001b[39m\u001b[38;5;124mSample larger than population or is negative\u001b[39m\u001b[38;5;124m\"\u001b[39m)\n\u001b[1;32m    454\u001b[0m result \u001b[38;5;241m=\u001b[39m [\u001b[38;5;28;01mNone\u001b[39;00m] \u001b[38;5;241m*\u001b[39m k\n\u001b[1;32m    455\u001b[0m setsize \u001b[38;5;241m=\u001b[39m \u001b[38;5;241m21\u001b[39m        \u001b[38;5;66;03m# size of a small set minus size of an empty list\u001b[39;00m\n",
      "\u001b[0;31mValueError\u001b[0m: Sample larger than population or is negative"
     ]
    }
   ],
   "source": [
    "nfichas= 80\n",
    "random.sample(range(1,nfichas), nfichas)# Lista de ficha\n",
    "random.choices(List, weights=(.1, .4, .2, .2, .1), k=5)\n",
    "\n",
    "count"
   ]
  },
  {
   "cell_type": "code",
   "execution_count": null,
   "id": "5509d019",
   "metadata": {},
   "outputs": [],
   "source": [
    "for i in range(100):\n",
    "    List = [1, 2, 3, 4, 5]\n",
    "    print(np.random.choice(List,5,replace=False, p=P))"
   ]
  },
  {
   "cell_type": "code",
   "execution_count": 131,
   "id": "97db690b",
   "metadata": {},
   "outputs": [
    {
     "name": "stdout",
     "output_type": "stream",
     "text": [
      "[]\n",
      "[]\n",
      "[]\n",
      "[]\n",
      "[]\n",
      "[]\n",
      "[]\n",
      "[]\n",
      "[]\n",
      "[]\n",
      "[]\n",
      "[]\n",
      "[]\n",
      "[]\n",
      "[]\n",
      "[]\n",
      "[]\n",
      "[]\n",
      "[]\n",
      "[]\n",
      "[]\n",
      "[]\n",
      "[]\n",
      "[]\n",
      "[]\n",
      "[]\n",
      "[]\n",
      "[]\n",
      "[]\n",
      "[]\n",
      "[]\n",
      "[]\n",
      "[]\n",
      "[]\n",
      "[]\n",
      "[]\n",
      "[]\n",
      "[]\n",
      "[]\n",
      "[]\n",
      "[]\n",
      "[]\n",
      "[]\n",
      "[]\n",
      "[]\n",
      "[]\n",
      "[]\n",
      "[]\n",
      "[]\n",
      "[]\n",
      "[]\n",
      "[]\n",
      "[]\n",
      "[]\n",
      "[]\n",
      "[]\n",
      "[]\n",
      "[]\n",
      "[]\n",
      "[]\n",
      "[]\n",
      "[]\n",
      "[]\n",
      "[]\n",
      "[]\n",
      "[]\n",
      "[]\n",
      "[]\n",
      "[]\n",
      "[]\n",
      "[]\n",
      "[]\n",
      "[]\n",
      "[]\n",
      "[]\n",
      "[]\n",
      "[]\n",
      "[]\n",
      "[]\n",
      "[]\n",
      "[]\n",
      "[]\n",
      "[]\n",
      "[]\n",
      "[]\n",
      "[]\n",
      "[]\n",
      "[]\n",
      "[]\n",
      "[]\n",
      "[]\n",
      "[]\n",
      "[]\n",
      "[]\n",
      "[]\n",
      "[]\n",
      "[]\n",
      "[]\n",
      "[]\n",
      "[]\n"
     ]
    }
   ],
   "source": [
    "for tab in tabs[0]:\n",
    "    print(tab[tab==0])"
   ]
  },
  {
   "cell_type": "code",
   "execution_count": 79,
   "id": "42117035",
   "metadata": {},
   "outputs": [
    {
     "data": {
      "text/plain": [
       "1.0"
      ]
     },
     "execution_count": 79,
     "metadata": {},
     "output_type": "execute_result"
    }
   ],
   "source": []
  }
 ],
 "metadata": {
  "kernelspec": {
   "display_name": "Python 3 (ipykernel)",
   "language": "python",
   "name": "python3"
  },
  "language_info": {
   "codemirror_mode": {
    "name": "ipython",
    "version": 3
   },
   "file_extension": ".py",
   "mimetype": "text/x-python",
   "name": "python",
   "nbconvert_exporter": "python",
   "pygments_lexer": "ipython3",
   "version": "3.11.0"
  }
 },
 "nbformat": 4,
 "nbformat_minor": 5
}
