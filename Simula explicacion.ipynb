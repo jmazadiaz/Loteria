{
 "cells": [
  {
   "cell_type": "markdown",
   "id": "feecf784",
   "metadata": {},
   "source": [
    "# Loterias modernas en Cumaná - Venezuela\n",
    "\n",
    "   Se ha hecho muy popular la ejecucion de loterias artesanales, como una alternativa para mejorar la condición economica de algunos cumanaces, las celebraciones de estas, estan llenas de concursos, regalos y sorpresas, amenizdos en algunos casos con música en vivo. Este corto estudio pretende analizar su funcionamiento, las posibilades de ganarla y un prematuro estudio finaciero; me gustaria aclarar, que mi motivación es estritamente funcional, buscando la evolucionar este sistema a una herramienta de desarrollo, basadome en su origen y en las capacidades del mismo para solucionar problematicas.\n",
    "### Librerias"
   ]
  },
  {
   "cell_type": "code",
   "execution_count": 1,
   "id": "d4c2b082",
   "metadata": {},
   "outputs": [],
   "source": [
    "from src import toggle_cell_code as tcc\n",
    "#from src import librarys\n",
    "from itertools import combinations\n",
    "from math import factorial\n",
    "from os import scandir, getcwd\n",
    "import re\n",
    "import random\n",
    "import numpy as np\n",
    "import pandas as pd\n",
    "import seaborn as sns\n",
    "import matplotlib.pyplot as plt\n",
    "from scipy.stats import linregress"
   ]
  },
  {
   "cell_type": "markdown",
   "id": "8654847b",
   "metadata": {},
   "source": [
    "# Introduccion\n",
    "\n",
    "Segunla infomación consultada, el primer registro de una loteria se remonta siglro II AC y sirbieron para finaciar la construcción de la muralla china, los romanos la usaban como un medio para repartir entre los invitados regalos durante una fiesta, tenomos una reseña biblica que sugiere la repartición de tierra usando la suerte como criterio de selección (Numeros 26: 52 - 56) otros citas donde se usa la cuerte como criterio de selección estan Jonás 1:7-17 y en porvercios 18:18 *La suerte pone fin a los pleitos, Y decide entre los poderosos.* La version antigua del juego tal como lo conocemos actualmente data del siglo XV, fue celebrada en 1446 por Margaret van Eyck, viuda del pintor flamenco; si embargo la primera a nivel estatal fue organizada por la reina Isabel I de Inglaterra en 1567 para financiar la modernización de la armada. \n",
    "\n",
    "Actualmente, en la ciudad de Cumaná desde enero del 2022, se celebran loterias en toda la ciudad, y a modo informativo para la pobración usaremos un poco de matematicas para dar luces sobre el sistema en su totalidad.\n",
    "\n",
    "Considerarmos aspectos como:\n",
    "\n",
    "la cantidad de cartones (polibes conbinaciones),\n",
    "la cantidad de tablas (conjunto de 6 cartones),\n",
    "la distribucion de probabilidad de llenar de 1 a 3 cartones,\n",
    "hacer pruebas con distribuciones normales y no normale en la aparicion de las fichas.\n",
    "De esta manera centamos la bases para un analisis funcional de la loterias.\n",
    "\n",
    "Primero evaluaremos como incide el numero de fichas del juego sobre el numero de cartones, seguido de una explicacion de como simularemos una loteria variando difetentes parametros documentando los resultados para usar luego en el analisis, proseguiremos con la representacion de tales datos y mientras recoletaremos datos de las fichas cantada en el juego como tal para, posteriormente, ajustar nuestras simulaciones, seguido comentaremos superficialmente la parte financiera del juego y por ultimo, usando esta informacion, incluiremos un analisis funcional a modo de conclusión.\n",
    "\n",
    "# Inferencia de las fichas vs el números de cartones o tablas.\n",
    "\n",
    "Podemos usar la combinatoria para `contar` el número de cartones, usando la ecuacion de combinaciones sin repeticion, \n",
    "\n",
    "$$C^{n}_{r} = \\binom{n}{r} = \\frac{n!}{r!(n-r)!}$$\n",
    "\n",
    "donde n es el numero total de fichas y r en numero de fichas de cada carton. Para nuestro caso sabemos que cada carton contiene 8 fichas y deseamos saber cuantas combianciones tenemos si nuestro número total de fichas (`nFichas`) va de 15 a 80 fichas.\n",
    "\n",
    "Pero antes hagamos un pequeño ejemplo, vamos a generar unas distribuciones sin repeticion con la herramientas `combinations` de la libreria `itertools`.\n",
    "\n",
    "**Nota**: Debido a los recursos computaciones, vamos a representar muestras pequeñas\n",
    "\n",
    "Primero, si contamos con una muestras de 4 elementos [a,b,c,d,e] y queremos saber cuantas combinaciones e 2 elementos tenemos  tenemos sin repetir ningun conjunto facilmente vemos que tenemos:\n",
    "\n",
    "- [a,b]  ;  [a,c]  ;  [a,d]  ;  [a,e]\n",
    "\n",
    "- [b,c]  ;  [b,d]  ;  [b,e]\n",
    "\n",
    "- [c,d]  ;  [c,e]\n",
    "\n",
    "- [d,e]\n",
    "\n",
    "un total de 10 combinaciones, revisemos con el codigo la combinacion propuesta:\n"
   ]
  },
  {
   "cell_type": "code",
   "execution_count": 2,
   "id": "832cca6e",
   "metadata": {},
   "outputs": [
    {
     "data": {
      "text/html": [
       "\n",
       "    <button type=\"button\" id=\"combinaciones\" onclick=\"code_toggle('combinaciones')\">Codigo</button>\n",
       "    <script>\n",
       "    function code_toggle(my_id) {\n",
       "        // get the parent element for the cell code and output\n",
       "        var p = $(\"#\"+my_id);\n",
       "        if (p.length==0) return;\n",
       "        while (!p.hasClass(\"cell\")) {\n",
       "            p = p.parent();\n",
       "            if (p.prop(\"tagName\") ==\"body\") return;\n",
       "        }\n",
       "    // get the cell code and toggle its value\n",
       "    var cell_code = p.find(\".input\");\n",
       "    cell_code.toggle();\n",
       "    }\n",
       "    </script>\n",
       "    "
      ]
     },
     "metadata": {},
     "output_type": "display_data"
    },
    {
     "data": {
      "text/plain": [
       "[('a', 'b'),\n",
       " ('a', 'c'),\n",
       " ('a', 'd'),\n",
       " ('a', 'e'),\n",
       " ('b', 'c'),\n",
       " ('b', 'd'),\n",
       " ('b', 'e'),\n",
       " ('c', 'd'),\n",
       " ('c', 'e'),\n",
       " ('d', 'e')]"
      ]
     },
     "execution_count": 2,
     "metadata": {},
     "output_type": "execute_result"
    }
   ],
   "source": [
    "tcc.toggle_cell_code(\"combinaciones\")\n",
    "\n",
    "from itertools import combinations\n",
    "from math import factorial\n",
    "\n",
    "list(combinations([\"a\",\"b\",\"c\",\"d\",\"e\"],2))"
   ]
  },
  {
   "cell_type": "markdown",
   "id": "b96cf571",
   "metadata": {},
   "source": [
    "Si queremos el numero exacto de combinaciones tenemos en nuestra combiancion, definimos la ecuacion anterior colocamos el número de elementos totales (n) y el número de lementos que conforma el grupo (r)."
   ]
  },
  {
   "cell_type": "code",
   "execution_count": 3,
   "id": "e86ec035",
   "metadata": {},
   "outputs": [
    {
     "data": {
      "text/html": [
       "\n",
       "    <button type=\"button\" id=\"combinatoria\" onclick=\"code_toggle('combinatoria')\">Codigo</button>\n",
       "    <script>\n",
       "    function code_toggle(my_id) {\n",
       "        // get the parent element for the cell code and output\n",
       "        var p = $(\"#\"+my_id);\n",
       "        if (p.length==0) return;\n",
       "        while (!p.hasClass(\"cell\")) {\n",
       "            p = p.parent();\n",
       "            if (p.prop(\"tagName\") ==\"body\") return;\n",
       "        }\n",
       "    // get the cell code and toggle its value\n",
       "    var cell_code = p.find(\".input\");\n",
       "    cell_code.toggle();\n",
       "    }\n",
       "    </script>\n",
       "    "
      ]
     },
     "metadata": {},
     "output_type": "display_data"
    },
    {
     "data": {
      "text/plain": [
       "10.0"
      ]
     },
     "execution_count": 3,
     "metadata": {},
     "output_type": "execute_result"
    }
   ],
   "source": [
    "tcc.toggle_cell_code(\"combinatoria\")\n",
    "\n",
    "def numComb (n,r):\n",
    "    return factorial(n)/(factorial(r)*factorial(n-r))\n",
    "\n",
    "numComb(5,2)\n"
   ]
  },
  {
   "cell_type": "markdown",
   "id": "81bf29eb",
   "metadata": {},
   "source": [
    "Veamos otro ejemplo un poco mas grande, combinemos  3 elementos de un cojunto de 7 (n =7, r = 3)"
   ]
  },
  {
   "cell_type": "code",
   "execution_count": 6,
   "id": "88b5b93b",
   "metadata": {},
   "outputs": [
    {
     "data": {
      "text/html": [
       "\n",
       "    <button type=\"button\" id=\"combinato\" onclick=\"code_toggle('combinato')\">Codigo</button>\n",
       "    <script>\n",
       "    function code_toggle(my_id) {\n",
       "        // get the parent element for the cell code and output\n",
       "        var p = $(\"#\"+my_id);\n",
       "        if (p.length==0) return;\n",
       "        while (!p.hasClass(\"cell\")) {\n",
       "            p = p.parent();\n",
       "            if (p.prop(\"tagName\") ==\"body\") return;\n",
       "        }\n",
       "    // get the cell code and toggle its value\n",
       "    var cell_code = p.find(\".input\");\n",
       "    cell_code.toggle();\n",
       "    }\n",
       "    </script>\n",
       "    "
      ]
     },
     "metadata": {},
     "output_type": "display_data"
    },
    {
     "name": "stdout",
     "output_type": "stream",
     "text": [
      "El numero de combinaciones es de 35 combinaciones\n",
      "[('1', '2', '3'), ('1', '2', '4'), ('1', '2', '5'), ('1', '2', '6'), ('1', '2', '7'), ('1', '3', '4'), ('1', '3', '5'), ('1', '3', '6'), ('1', '3', '7'), ('1', '4', '5'), ('1', '4', '6'), ('1', '4', '7'), ('1', '5', '6'), ('1', '5', '7'), ('1', '6', '7'), ('2', '3', '4'), ('2', '3', '5'), ('2', '3', '6'), ('2', '3', '7'), ('2', '4', '5'), ('2', '4', '6'), ('2', '4', '7'), ('2', '5', '6'), ('2', '5', '7'), ('2', '6', '7'), ('3', '4', '5'), ('3', '4', '6'), ('3', '4', '7'), ('3', '5', '6'), ('3', '5', '7'), ('3', '6', '7'), ('4', '5', '6'), ('4', '5', '7'), ('4', '6', '7'), ('5', '6', '7')]\n"
     ]
    },
    {
     "data": {
      "text/plain": [
       "35.0"
      ]
     },
     "execution_count": 6,
     "metadata": {},
     "output_type": "execute_result"
    }
   ],
   "source": [
    "tcc.toggle_cell_code(\"combinato\")\n",
    "\n",
    "comb = combinations(\"1234567\",3)\n",
    "print(f'El numero de combinaciones es de {len(list(comb))} combinaciones')\n",
    "comb = combinations(\"1234567\",3)\n",
    "print(list(comb))\n",
    "\n",
    "numComb(7,3)"
   ]
  },
  {
   "cell_type": "markdown",
   "id": "ea2f728c",
   "metadata": {},
   "source": [
    "Si queremos visualizar como crece este numero de combinaciones para un número fijo de 8 elementos que conforma un grupo, pero cambiando el tamaño del conjunto total."
   ]
  },
  {
   "cell_type": "code",
   "execution_count": 9,
   "id": "086bf825",
   "metadata": {},
   "outputs": [
    {
     "data": {
      "text/html": [
       "\n",
       "    <button type=\"button\" id=\"Inferencia\" onclick=\"code_toggle('Inferencia')\">Codigo</button>\n",
       "    <script>\n",
       "    function code_toggle(my_id) {\n",
       "        // get the parent element for the cell code and output\n",
       "        var p = $(\"#\"+my_id);\n",
       "        if (p.length==0) return;\n",
       "        while (!p.hasClass(\"cell\")) {\n",
       "            p = p.parent();\n",
       "            if (p.prop(\"tagName\") ==\"body\") return;\n",
       "        }\n",
       "    // get the cell code and toggle its value\n",
       "    var cell_code = p.find(\".input\");\n",
       "    cell_code.toggle();\n",
       "    }\n",
       "    </script>\n",
       "    "
      ]
     },
     "metadata": {},
     "output_type": "display_data"
    },
    {
     "data": {
      "image/png": "[encoded data removed]",
      "text/plain": [
       "<Figure size 720x360 with 1 Axes>"
      ]
     },
     "metadata": {},
     "output_type": "display_data"
    }
   ],
   "source": [
    "tcc.toggle_cell_code(\"Inferencia\")\n",
    "\n",
    "lfichas = np.arange(15,170,2)\n",
    "r = 8  # numero de lementos de cada carton\n",
    "\n",
    "nComb = [] # Numero de combinaciones para cada elemento de lfichas\n",
    "\n",
    "for a in lfichas:\n",
    "    c = numComb(a,r)\n",
    "    nComb.append(c)\n",
    "plt.figure(figsize=(8,4), dpi = 90)\n",
    "plt.plot(lfichas,nComb)\n",
    "plt.title(\"Num. de fichas vs Num. Combinaciones\")\n",
    "plt.xlabel(\"Numero de Fichas\")\n",
    "plt.ylabel(\"Numero de Combinaciones\")\n",
    "plt.yscale(\"log\")\n",
    "\n",
    "plt.savefig('media/comb_fichas.png')\n",
    "#f.savefig(\"media/hist_comp_wintab_\"+str(tabs)+\"_carts.png\")\n",
    "plt.show()"
   ]
  },
  {
   "cell_type": "markdown",
   "id": "ddf51069",
   "metadata": {},
   "source": [
    "Aqui apresiamos el apena 19 fichas tenemos un numero suficiente para genera 75.582 cartones un total de 12.597 de tablas, hay que tener claro que la probabilidad de ganar la loteria depende del numero de cartones este jugando, en otras palabras, 1000 tablas presentes en el momento del sorteo, la probabilidad de ganar el sorteo de una tabla es 1/1000, lo que quiere decir que al aumentar el numero de cartones vamos a aumentar las probabilidad de ganar. no obstante esto se explora mas a fond en otra seccion.\n",
    "\n",
    "Si tenemos una loteria de 140 fichas con tabla que tiene 6 cartones de 8 fichas cada uno, vamos a tener un total de $4,976 x10^{11}$ Tablas"
   ]
  },
  {
   "cell_type": "code",
   "execution_count": 11,
   "id": "c2be559c",
   "metadata": {},
   "outputs": [
    {
     "data": {
      "text/plain": [
       "497622297322.5"
      ]
     },
     "execution_count": 11,
     "metadata": {},
     "output_type": "execute_result"
    }
   ],
   "source": [
    "numComb(140,r)/6 #6 cartones por table"
   ]
  },
  {
   "cell_type": "markdown",
   "id": "d274a114",
   "metadata": {},
   "source": [
    "# Lógica del código \n",
    " \n",
    " Vamos a definir un **generador de cartones**, un **antador de cartones** y una **ronda de juego** Con estas tres funciones podremos desarrollar una muestra de mil ronda de juego de manera que podamos ir anotando los resultado de cada ronda de juego.\n",
    " \n",
    "\n",
    "## Generador de cartones\n",
    "Cada carton constará como un conjunto de dos arreglos, en el primero arreglo tendremos la matriz que representa el carton con combinaciones de fichas segun la cantidad de fichas (`nFichas`) y en le segundo tendremos la matriz de ceros y unos de manera que los $1^{os}$ representen las fichas anotadas segun valla saliento las fichas.\n",
    "\n",
    "## Anotador de cartones\n",
    "\n",
    "Segun valla apareciendo cada ficha la funcion ira revisando cada carton, si esta se encuentra en el carton, este cambiara la el valor del segundo arreglo del carton de 0 a 1.\n",
    "\n",
    "## Ronda del juego\n",
    "\n",
    "Esta funcion va a resibir el numero de cartones que quermos jugar y generara una distribución aleatoria normal de todas la fichas (Simulando cada ficha que sale en un sorteo) y con este arreglo revisamos nuestros cartones \n",
    "\n",
    "# Definiendo Funciones\n",
    "\n",
    "Vamos necesitar la siguentes librerias, esta ya fueron invocadas anteriormente.\n",
    "\n",
    "```python\n",
    "import numpy as np\n",
    "import pandas as pd\n",
    "import seaborn as sns\n",
    "import matplotlib.pyplot as plt\n",
    "```\n",
    "\n",
    "## Generador de cartones\n",
    "\n",
    "Como la loteria se gana con carton lleno, da lo mismo si es un matriz o un arreglo linear. Posteriormente generaremos n tablas (1 tabla = 6 cartones), esta tabla estará represnetada por una tupla de 6 arrays con 8 elementos cada uno. Todo resulta en la siguentes linea de codigo.\n",
    "\n",
    "\n",
    "```python\n",
    "# Genera cartones de 8 fichas a partir de un conjunto de \n",
    "# nFichas y los retornas como un arreglo continuo.\n",
    "\n",
    "def gen_cartones(nfichas,tabs, metodo):# método = \"aleatorio\",\"unico\",\"mismos\"\n",
    "    tablas = []\n",
    "    checks =  []\n",
    "    if metodo == \"aleatorio\":\n",
    "        rng = np.random.default_rng()\n",
    "        for i in range(tabs):\n",
    "                tablas.append(rng.choice(range(1, nfichas), size=(6, 8), replace=False))\n",
    "                \n",
    "    elif metodo == \"unico\":\n",
    "        tablas.append(np.random.default_rng(1).choice(range(1, nfichas), size=(6, 8), replace=False))\n",
    "        rng = np.random.default_rng()\n",
    "    \n",
    "        for i in range(1,tabs):\n",
    "            tablas.append(rng.choice(range(1, nfichas), size=(6, 8), replace=False))\n",
    "        \n",
    "    elif metodo == \"mismos\":\n",
    "        for i in range(tabs):\n",
    "            rng = np.random.default_rng(i)\n",
    "            tablas.append(rng.choice(range(1, nfichas), size=(6, 8), replace=False))\n",
    "        \n",
    "    else:\n",
    "        print('método = \"aleatorio\",\"unico\",\"mismos\"')\n",
    "        \n",
    "      \n",
    "    check = np.zeros((tabs,6,8))\n",
    "    return (tablas, check)\n",
    "```\n",
    "\n",
    "Me gustaria resaltar que la base de esta funciones es `rng = np.random.default_rng()` Este generador se basa en un BitGenerator adicional para administrar el estado y generar los bits aleatorios, que luego se transforman en valores aleatorios a partir de distribuciones útiles. Lo que nos permite pasar una lista de elemetos y el sencillamente usa estos elementos tos crear los cartones o arreglos de 8 lementos que seran concatenados a una tupla. Al mismo tiempo se crea otro arreglo con la misma dimension lleno de ceros que nos sevirá como marcador de fichas seleccionadas. Ademas hemos anexados 3 modos diferentes de generar el número de cartones que necesitamos. `aleatorio` que sencillamente genera cartones aleatorios sin repetirse,`unico` que siempre genera la primera tabla igual y las demas aleatorias (Nos permiete evaluar nuestro carton vs miles de cartones aleatorios por cada ronda de juego) y `mismos` siempre generará todos las tablas igual, esto será util para saber cuantas veces ganamos en base e los mismos cartones que es la forma en la que funciona la loterias.\n",
    "\n",
    "Hagamos una prueba para ver los resultados:\n",
    "\n",
    "\n",
    " \n",
    "    "
   ]
  },
  {
   "cell_type": "code",
   "execution_count": 43,
   "id": "6305b9f1",
   "metadata": {},
   "outputs": [
    {
     "data": {
      "text/html": [
       "\n",
       "    <button type=\"button\" id=\"catones\" onclick=\"code_toggle('catones')\">Codigo</button>\n",
       "    <script>\n",
       "    function code_toggle(my_id) {\n",
       "        // get the parent element for the cell code and output\n",
       "        var p = $(\"#\"+my_id);\n",
       "        if (p.length==0) return;\n",
       "        while (!p.hasClass(\"cell\")) {\n",
       "            p = p.parent();\n",
       "            if (p.prop(\"tagName\") ==\"body\") return;\n",
       "        }\n",
       "    // get the cell code and toggle its value\n",
       "    var cell_code = p.find(\".input\");\n",
       "    cell_code.toggle();\n",
       "    }\n",
       "    </script>\n",
       "    "
      ]
     },
     "metadata": {},
     "output_type": "display_data"
    },
    {
     "name": "stdout",
     "output_type": "stream",
     "text": [
      "----> 10 cartones con 50 fichas donde todos son iguales <----\n"
     ]
    },
    {
     "data": {
      "text/plain": [
       "'1er'"
      ]
     },
     "metadata": {},
     "output_type": "display_data"
    },
    {
     "data": {
      "text/plain": [
       "'[[36 24  2 33 34 21  4 23]\\n [15  1 18 40 47  5 10 29]\\n [ 8 27 31  3 20 41 13 12]]'"
      ]
     },
     "metadata": {},
     "output_type": "display_data"
    },
    {
     "data": {
      "text/plain": [
       "'[[ 9 11 16 43 45 46  6 48]\\n [49 25 39 32 26 38 28 17]\\n [42 35 44  7 19 37 30 14]]'"
      ]
     },
     "metadata": {},
     "output_type": "display_data"
    },
    {
     "data": {
      "text/plain": [
       "'2do'"
      ]
     },
     "metadata": {},
     "output_type": "display_data"
    },
    {
     "data": {
      "text/plain": [
       "'[[26 41 28 48 23 46  7 16]\\n [39 36 32  4 27 44 35  9]\\n [ 2 43  3 19 42 38  1 29]]'"
      ]
     },
     "metadata": {},
     "output_type": "display_data"
    },
    {
     "data": {
      "text/plain": [
       "'[[30 22 18 12 24 33 21 15]\\n [ 5 11 20 17 49 45  8 10]\\n [13 40 25 14 34  6 47 37]]'"
      ]
     },
     "metadata": {},
     "output_type": "display_data"
    },
    {
     "data": {
      "text/plain": [
       "'3ro'"
      ]
     },
     "metadata": {},
     "output_type": "display_data"
    },
    {
     "data": {
      "text/plain": [
       "'[[ 4 44 46  6  1 32 10 24]\\n [41 40 21  2 35  8 15 39]\\n [37 38 29 45 14 28 27 34]]'"
      ]
     },
     "metadata": {},
     "output_type": "display_data"
    },
    {
     "data": {
      "text/plain": [
       "'[[12 13 19 33 26 49 23 11]\\n [31 17  9 36  5 20  3 42]\\n [30 25 22  7 47 43 16 48]]'"
      ]
     },
     "metadata": {},
     "output_type": "display_data"
    },
    {
     "name": "stdout",
     "output_type": "stream",
     "text": [
      "\n",
      "---> 10 cartones con 50 fichas donde el primero es igual y el resto diferente <---\n"
     ]
    },
    {
     "data": {
      "text/plain": [
       "'1er'"
      ]
     },
     "metadata": {},
     "output_type": "display_data"
    },
    {
     "data": {
      "text/plain": [
       "'[[36 24  2 33 34 21  4 23]\\n [15  1 18 40 47  5 10 29]\\n [ 8 27 31  3 20 41 13 12]]'"
      ]
     },
     "metadata": {},
     "output_type": "display_data"
    },
    {
     "data": {
      "text/plain": [
       "'[[ 9 11 16 43 45 46  6 48]\\n [49 25 39 32 26 38 28 17]\\n [42 35 44  7 19 37 30 14]]'"
      ]
     },
     "metadata": {},
     "output_type": "display_data"
    },
    {
     "data": {
      "text/plain": [
       "'2do'"
      ]
     },
     "metadata": {},
     "output_type": "display_data"
    },
    {
     "data": {
      "text/plain": [
       "'[[11 35 13 43 30 24 16 15]\\n [17 31  6 20 34 44  4 21]\\n [ 2 47 46 14 10  1 27 36]]'"
      ]
     },
     "metadata": {},
     "output_type": "display_data"
    },
    {
     "data": {
      "text/plain": [
       "'[[37 39 19 45 28 49 41 40]\\n [32  5 12 23 42 22 26 48]\\n [18 38 29 33  3  9 25  7]]'"
      ]
     },
     "metadata": {},
     "output_type": "display_data"
    },
    {
     "data": {
      "text/plain": [
       "'3ro'"
      ]
     },
     "metadata": {},
     "output_type": "display_data"
    },
    {
     "data": {
      "text/plain": [
       "'[[38  7 10 14  5 41 33 29]\\n [45 15 39 48 17 21 22 27]\\n [ 2  9 12 40 24 32 20 34]]'"
      ]
     },
     "metadata": {},
     "output_type": "display_data"
    },
    {
     "data": {
      "text/plain": [
       "'[[13 16 26 43 19 31  6  4]\\n [23 30 18  8 46 36 35  3]\\n [25 37 44 49 42 28 47  1]]'"
      ]
     },
     "metadata": {},
     "output_type": "display_data"
    },
    {
     "name": "stdout",
     "output_type": "stream",
     "text": [
      "\n",
      "-----> 10 cartones con 50 fichas donde todos son diferente <-----\n"
     ]
    },
    {
     "data": {
      "text/plain": [
       "'1er'"
      ]
     },
     "metadata": {},
     "output_type": "display_data"
    },
    {
     "data": {
      "text/plain": [
       "'[[21 46 12 37 31 44 36 22]\\n [41 27 48 25 30  3 49 35]\\n [34 20 11 33 19 40 43  4]]'"
      ]
     },
     "metadata": {},
     "output_type": "display_data"
    },
    {
     "data": {
      "text/plain": [
       "'[[16 29  2 24 45  6  1 28]\\n [39 10  8 26  5 13 18 14]\\n [ 7 38 17 42 15 47 23 32]]'"
      ]
     },
     "metadata": {},
     "output_type": "display_data"
    },
    {
     "data": {
      "text/plain": [
       "'2do'"
      ]
     },
     "metadata": {},
     "output_type": "display_data"
    },
    {
     "data": {
      "text/plain": [
       "'[[19 32  6 28 47 40 46 21]\\n [15 23 29  9 24 26 11 10]\\n [49 12 16 27 17  4  8 30]]'"
      ]
     },
     "metadata": {},
     "output_type": "display_data"
    },
    {
     "data": {
      "text/plain": [
       "'[[13 18 37 25  2  3  1 36]\\n [41 31 33 22 34 48 45 43]\\n [35 20  7 44  5 38 42 14]]'"
      ]
     },
     "metadata": {},
     "output_type": "display_data"
    },
    {
     "data": {
      "text/plain": [
       "'3ro'"
      ]
     },
     "metadata": {},
     "output_type": "display_data"
    },
    {
     "data": {
      "text/plain": [
       "'[[13  5 39  8  6 28 18 34]\\n [49  4  7 22 44 19 10 40]\\n [35 42 37  9 31 45 46 38]]'"
      ]
     },
     "metadata": {},
     "output_type": "display_data"
    },
    {
     "data": {
      "text/plain": [
       "'[[15 47  2 20 17  1 27 32]\\n [30 33 21  3 11 29 25 43]\\n [36 16 41 24 26 23 14 12]]'"
      ]
     },
     "metadata": {},
     "output_type": "display_data"
    }
   ],
   "source": [
    "tcc.toggle_cell_code(\"catones\")\n",
    "\n",
    "def gen_cartones(nfichas,tabs, metodo):# método = \"aleatorio\",\"unico\",\"mismos\"\n",
    "    tablas = []\n",
    "    checks =  []\n",
    "    if metodo == \"aleatorio\":\n",
    "        rng = np.random.default_rng()\n",
    "        for i in range(tabs):\n",
    "                tablas.append(rng.choice(range(1, nfichas), size=(6, 8), replace=False))\n",
    "                \n",
    "    elif metodo == \"unico\":\n",
    "        tablas.append(np.random.default_rng(0).choice(range(1, nfichas), size=(6, 8), replace=False))\n",
    "        rng = np.random.default_rng()\n",
    "    \n",
    "        for i in range(1,tabs):\n",
    "            tablas.append(rng.choice(range(1, nfichas), size=(6, 8), replace=False))\n",
    "        \n",
    "    elif metodo == \"mismos\":\n",
    "        for i in range(tabs):\n",
    "            rng = np.random.default_rng(i)\n",
    "            tablas.append(rng.choice(range(1, nfichas), size=(6, 8), replace=False))\n",
    "        \n",
    "    else:\n",
    "        print('método = \"aleatorio\",\"unico\",\"mismos\"')\n",
    "        \n",
    "      \n",
    "    check = np.zeros((tabs,6,8))\n",
    "    return (tablas, check)\n",
    "\n",
    "mismos = table = gen_cartones(50,3, \"mismos\")\n",
    "unico = table = gen_cartones(50,3, \"unico\")\n",
    "rand = table = gen_cartones(50,3, \"aleatorio\")\n",
    "\n",
    "print('----> 10 cartones con 50 fichas donde todos son iguales <----')\n",
    "display('1er',str(mismos[0][0][0:3]),str(mismos[0][0][3:6])\n",
    "       ,'2do',str(mismos[0][1][0:3]),str(mismos[0][1][3:6])\n",
    "       ,'3ro',str(mismos[0][2][0:3]),str(mismos[0][2][3:6]))\n",
    "print('\\n---> 10 cartones con 50 fichas donde el primero es igual y el resto diferente <---')\n",
    "display('1er',str(unico[0][0][0:3]),str(unico[0][0][3:6])\n",
    "       ,'2do',str(unico[0][1][0:3]),str(unico[0][1][3:6])\n",
    "       ,'3ro',str(unico[0][2][0:3]),str(unico[0][2][3:6]))\n",
    "print('\\n-----> 10 cartones con 50 fichas donde todos son diferente <-----')\n",
    "display('1er',str(rand[0][0][0:3]),str(rand[0][0][3:6])\n",
    "       ,'2do',str(rand[0][1][0:3]),str(rand[0][1][3:6])\n",
    "       ,'3ro',str(rand[0][2][0:3]),str(rand[0][2][3:6]))"
   ]
  },
  {
   "cell_type": "markdown",
   "id": "73075fea",
   "metadata": {},
   "source": [
    "## Anotador de cartones\n",
    "\n",
    "A pesar que no visaulizamos en la prueva anterior la tabla de marcado generado por `gen_cartones(nfichas,tabs, metodo)` retornado en la columna 1 del valor retornado, Esta parte va a ser vital para anotar las fichas cantadas del carton. recordemos que una cosa es reconocer la ficha cantada en el carton y otra la de marcar la ficha. \n",
    "\n",
    "Primero vamos a establecer las condiciones para ganar el sorteo, en este caso llenar 1, 2 o 3 cartones.\n",
    "\n",
    "```python\n",
    "def checker(mCards, nWin ,index):# ncards 1 a 6 cartones\n",
    "    # En caso de tener varias tablas\n",
    "    loterias = 0\n",
    "    # Solo una tabla\n",
    "   \n",
    "    for card in mCards[index]:\n",
    "        \n",
    "        valor, count = np.unique(card,return_counts=True)\n",
    "                       \n",
    "        if ((count[0] == 8) & (valor[0]==1 )): # Numero de fichas en el carton\n",
    "            loterias = loterias + 1\n",
    "            #print(loterias)\n",
    "            \n",
    "    if (loterias >= nWin):\n",
    "        return 1\n",
    "    \n",
    "    return 0\n",
    "        \n",
    "```\n",
    "nuestro marcador rellena con 1  nuestro arreglo lleno de ceros cuando la ficha esta en nuestros cartones, luego, `checker(mCards, nWin ,index)`revisa nuestro arreglo de elementos marcados con 1 y busca si hemos llenado los cartones necesarios para ganar y retrona un true en caso que se cumpla la condicion de **lotería** \n",
    "\n",
    "```python\n",
    "# Buscar maneras de integrar y tomar en cuenta como optimizar\n",
    "#    -Empezar a chekear luego de la 8va ficha anotada\n",
    "#    -En el chekeador  podrias evitar revisar los catonoes con loteria\n",
    "#    en caso de tener mas de un win.\n",
    "\n",
    "\n",
    "def marker(mcards, ficha,index):\n",
    "    x,y = np.where(mcards[0][index]==ficha)\n",
    "    if (len(x) != 0):\n",
    "        mcards[1][index][x,y] = 1\n",
    "        return True\n",
    "    else:\n",
    "        return False\n",
    "    \n",
    "```   \n",
    "Me interezó tener un reporte del carton que ganó por eso incluí la siguiente funcion.\n",
    "\n",
    "```python\n",
    "def cardWin(mCards,index):# ncards 1 a 6 cartones\n",
    "    # En caso de tener varias tablas\n",
    "    cardwin = []\n",
    "    counter = 0\n",
    "    # Solo una tabla\n",
    "   \n",
    "    for card in mCards[1][index]:\n",
    "        #print(card)\n",
    "        valor, count = np.unique(card,return_counts=True)\n",
    "                       \n",
    "        if ((count[0] == 8) & (valor[0]==1 )): # Numero de fichas en el carton\n",
    "            cardwin.append(mCards[0][index][counter])\n",
    "           # print(card)\n",
    "            \n",
    "        counter += 1\n",
    "        #print(counter)\n",
    "    \n",
    "    \n",
    "    return cardwin\n",
    "```\n",
    "\n",
    "Aqui vamos a ingresar la tabla que completó las condiciones para ganar, junto con el indice del mismo, y entre los cartones no extrae solo el carton ganador de la tabla. Dependiendo del caso , devolvara 1, 2 o 3 cartones.\n",
    "\n",
    "## Ronda del juego\n",
    "\n",
    "Es la función que usará todo lo anterior para simular un sorteo. \n",
    "\n",
    "```python\n",
    "## jugar ronda para un carton\n",
    "## incluir el numero de ficha y de cartones\n",
    "\n",
    "def ronda_de_juego(ntabs,wins,numFichas):\n",
    "    tabs = ntabs\n",
    "    nfichas = numFichas\n",
    "    lFichas = random.sample(range(1,nfichas+1), nfichas)# Lista de fichas\n",
    "    cuentaFichas = 0\n",
    "    cuentaCheck = 0\n",
    "    loteria = 0\n",
    "    table = gen_cartones(nfichas,tabs, \"unico\") # True es el mismo carton\n",
    "    \n",
    "    for ficha in lFichas:\n",
    "        cuentaFichas += 1\n",
    "       \n",
    "        for i in range (tabs):\n",
    "\n",
    "            if marker(table, ficha,i):\n",
    "                cuentaCheck += 1\n",
    "\n",
    "            if (cuentaCheck >= 8):\n",
    "                loteria = checker(table[1], wins,i )\n",
    "\n",
    "            if (loteria == 1):\n",
    "                #print (table)\n",
    "                return (cuentaFichas,cardWin(table,i)) # Retorno el carton ganador\n",
    "```\n",
    "Al final nos retorna el numero de fichas necesarias para ganar una loteria y el o los cartones ganadores.\n",
    "\n",
    "Hagamos una pequeña prueva para aprecia lo que hemos hecho."
   ]
  },
  {
   "cell_type": "code",
   "execution_count": 44,
   "id": "83c32949",
   "metadata": {},
   "outputs": [
    {
     "data": {
      "text/html": [
       "\n",
       "    <button type=\"button\" id=\"Ronda\" onclick=\"code_toggle('Ronda')\">Codigo</button>\n",
       "    <script>\n",
       "    function code_toggle(my_id) {\n",
       "        // get the parent element for the cell code and output\n",
       "        var p = $(\"#\"+my_id);\n",
       "        if (p.length==0) return;\n",
       "        while (!p.hasClass(\"cell\")) {\n",
       "            p = p.parent();\n",
       "            if (p.prop(\"tagName\") ==\"body\") return;\n",
       "        }\n",
       "    // get the cell code and toggle its value\n",
       "    var cell_code = p.find(\".input\");\n",
       "    cell_code.toggle();\n",
       "    }\n",
       "    </script>\n",
       "    "
      ]
     },
     "metadata": {},
     "output_type": "display_data"
    }
   ],
   "source": [
    "tcc.toggle_cell_code('Ronda')\n",
    "\n",
    "\n",
    "## Chequeador de fichas en el carton\n",
    "\n",
    "def checker(mCards, nWin ,index):# ncards 1 a 6 cartones\n",
    "    # En caso de tener varias tablas\n",
    "    loterias = 0\n",
    "    # Solo una tabla\n",
    "   \n",
    "    for card in mCards[index]:\n",
    "        \n",
    "        valor, count = np.unique(card,return_counts=True)\n",
    "                       \n",
    "        if ((count[0] == 8) & (valor[0]==1 )): # Numero de fichas en el carton\n",
    "            loterias = loterias + 1\n",
    "            #print(loterias)\n",
    "            \n",
    "    if (loterias >= nWin):\n",
    "        return 1\n",
    "    \n",
    "    return 0\n",
    "        \n",
    "## Marcador del carton que tiene la ficha    \n",
    "\n",
    "# Buscar maneras de integrar y tomar en cuenta como optimizar\n",
    "#    -Empezar a chekear luego de la 8va ficha anotada\n",
    "#    -En el chekeador  podrias evitar revisar los catonoes con loteria\n",
    "#    en caso de tener mas de un win.\n",
    "\n",
    "\n",
    "\n",
    "def marker(mcards, ficha,index):\n",
    "    x,y = np.where(mcards[0][index]==ficha)\n",
    "    if (len(x) != 0):\n",
    "        mcards[1][index][x,y] = 1\n",
    "        return True\n",
    "    else:\n",
    "        return False\n",
    "\n",
    "### Devuelve el carton ganador    \n",
    "    \n",
    "def cardWin(mCards,index):# ncards 1 a 6 cartones\n",
    "    # En caso de tener varias tablas\n",
    "    cardwin = []\n",
    "    counter = 0\n",
    "    # Solo una tabla\n",
    "   \n",
    "    for card in mCards[1][index]:\n",
    "        #print(card)\n",
    "        valor, count = np.unique(card,return_counts=True)\n",
    "                       \n",
    "        if ((count[0] == 8) & (valor[0]==1 )): # Numero de fichas en el carton\n",
    "            cardwin.append(mCards[0][index][counter])\n",
    "           # print(card)\n",
    "            \n",
    "        counter += 1\n",
    "        #print(counter)\n",
    "    \n",
    "    \n",
    "    return cardwin\n",
    "\n",
    "## Ronda de juego\n",
    "\n",
    "## jugar ronda para un carton\n",
    "## incluir el numero de ficha y de cartones\n",
    "\n",
    "def ronda_de_juego(ntabs,wins,numFichas):\n",
    "    tabs = ntabs\n",
    "    nfichas = numFichas\n",
    "    lFichas = random.sample(range(1,nfichas+1), nfichas)# Lista de fichas\n",
    "    cuentaFichas = 0\n",
    "    cuentaCheck = 0\n",
    "    loteria = 0\n",
    "    table = gen_cartones(nfichas,tabs, \"unico\") # True es el mismo carton\n",
    "    \n",
    "    for ficha in lFichas:\n",
    "        cuentaFichas += 1\n",
    "       \n",
    "        for i in range (tabs):\n",
    "\n",
    "            if marker(table, ficha,i):\n",
    "                cuentaCheck += 1\n",
    "\n",
    "            if (cuentaCheck >= 8):\n",
    "                loteria = checker(table[1], wins,i )\n",
    "\n",
    "            if (loteria == 1):\n",
    "                #print (table)\n",
    "                return (cuentaFichas,cardWin(table,i)) # Retorno el carton ganador\n",
    "            \n",
    "            \n",
    "            "
   ]
  },
  {
   "cell_type": "code",
   "execution_count": 51,
   "id": "83da9b33",
   "metadata": {},
   "outputs": [
    {
     "name": "stdout",
     "output_type": "stream",
     "text": [
      "La tabla ganador es [array([ 8, 49, 23, 33,  3, 37,  5,  9])] y necesitó 31 fichas para ganar\n"
     ]
    }
   ],
   "source": [
    "a =ronda_de_juego(10,1,50)\n",
    "\n",
    "print(f'La tabla ganador es {a[1]} y necesitó {a[0]} fichas para ganar')"
   ]
  },
  {
   "cell_type": "markdown",
   "id": "c8f9e67d",
   "metadata": {},
   "source": [
    "# Corridas\n",
    "\n",
    "Ya tenemos nuestras maquinas simuladoras del juego de loteria, y provamos cun la siguente configuracion.\n",
    "\n",
    "```python\n",
    "# Iniciamos el data frame\n",
    "df_loteria = pd.DataFrame(columns = [\"numTablas\", \"numFichas\", \"distFichas\"\n",
    "                                     , \"fichasToWin\",\"tabToWin\"])\n",
    "# Configuración\n",
    "\n",
    "NdeFichas = 80\n",
    "nwin = 1\n",
    "nTab = 5 # 6 cartones\n",
    "dist = \"uniform\"\n",
    "rondas = 20\n",
    "\n",
    "for i in range(rondas):\n",
    "    temp_ftw = ronda_de_juego(nTab,nwin,NdeFichas)[0] # numero de cartones llenos y Numero de fichas \n",
    "    temp_ttw = ronda_de_juego(nTab,nwin,NdeFichas)[1] #           \"                       \"\n",
    "    data = pd.Series({\"numTablas\":1,\"numFichas\":NdeFichas\n",
    "                      , \"distFichas\":dist, \"fichasToWin\":temp_ftw\n",
    "                      ,\"tabToWin\":temp_ttw})\n",
    "    \n",
    "    \n",
    "    df_loteria = pd.concat([df_loteria,data.to_frame().T],ignore_index=True)\n",
    "    \n",
    "df_loteria.to_csv(r'data/df_loteria.csv', header = True, index = False)  \n",
    "```\n",
    "\n",
    "Nuestro primer interes es revisar como influye el numero de fichas en solo una tabla, luego La segunda configuacion queria averiguar como unfluye el número de cartones en el la cantida de fichas necesarias para ganar fijando el numero de fichas en 80, en nuestra tercera configuración el interes es saber cuantas veces veces gana mi tabla en comparacion con el de los otros, fijando el número de fichas y el número de cartones. Todo esto se puede resumir en la siguiente tabla.\n",
    "\n",
    "|    Configuración   |      primera      |      Segunda     |      Tercera     |      Cuarta       |\n",
    "|:------------------:|:-----------------:|:----------------:|:----------------:|:-----------------:|\n",
    "|     NumdeFichas    | [50-170] 10 en 10 |        80        |        80        |        80         |\n",
    "| Numwin(para ganar) |  [1,2,3] seed(1)  |  [1,2,3] (único) |  [1,2,3] (mismo) |  [1,2,3] (mismo)  |\n",
    "|     Numcartones    |         1         | [5-30] de 5 en 5 |        100       |        100        |\n",
    "|   distribuciones   |      Uniforme     |     Uniforme     |     Uniforme     |   SeudoUniforme   |\n",
    "|     NumdeRondas    |  1000 x cada una  |  1000 x cada una | [5000,2000,1000] | [5000,2000,1000]  |\n",
    "\n",
    "Para la primera el numero fichas cambia de 10 en 10 desde 50 a 170 y para cada cambio se evaluo para 1, 2 y 3 cartones llenos, para la segunda se varía la cantida de cartones, donde solo tenemos el primer carton igual en todas rondas, en la tercera aseguramos jugar siempre con los mismo 100 cartones y la razon por la que se hizo 5000 ronda para un solo carton lleno, 2000 para 2 cartones llenos y 1000 para 3 cartones, se escogio basado en las forma en la que hace el juego de loteria, visto que con un carton lleno se hace 5 sorteos, 2 sorteos con 2 catones llenos y 1 sorteo con 3 cartones llenos.\n",
    "\n",
    "Todo se almacena en un archivo de registro con las siguientes etiquetas `[\"numTablas\", \"numFichas\", \"distFichas\", \"fichasToWin\",\"tabToWin\"]` que corresponde con las siguens variables\n",
    "\n",
    "\n",
    "|  \"numTablas\"  |  **Número de tablas en el juego** |\n",
    "|:-------------:|:---------------------------------:|\n",
    "|  \"numFichas\"  |  **Número de fichas en el juego** |\n",
    "|  \"distFichas\" |     **Distribución de fichas**    |\n",
    "| \"fichasToWin\" | **La catidad de fichas cantadas** |\n",
    "|   \"tabToWin\"  |       **Cartones ganadores**      |\n",
    "\n",
    "Por error `tabToWin` no contiene la cantidad de cartons necesarios para ganar, por tal motivo para no perder el tiempo de computo, posteriormente se procesará para contar los cartones ganadores y anexar el número de cartones para ganar.\n",
    "\n",
    "Podemos hacer la corrido en la carpenta`\\src\\main.py`que contiene todo el codigo."
   ]
  },
  {
   "cell_type": "code",
   "execution_count": 54,
   "id": "fe3667dd",
   "metadata": {},
   "outputs": [
    {
     "data": {
      "text/html": [
       "\n",
       "    <button type=\"button\" id=\"orridas\" onclick=\"code_toggle('orridas')\">Codigo</button>\n",
       "    <script>\n",
       "    function code_toggle(my_id) {\n",
       "        // get the parent element for the cell code and output\n",
       "        var p = $(\"#\"+my_id);\n",
       "        if (p.length==0) return;\n",
       "        while (!p.hasClass(\"cell\")) {\n",
       "            p = p.parent();\n",
       "            if (p.prop(\"tagName\") ==\"body\") return;\n",
       "        }\n",
       "    // get the cell code and toggle its value\n",
       "    var cell_code = p.find(\".input\");\n",
       "    cell_code.toggle();\n",
       "    }\n",
       "    </script>\n",
       "    "
      ]
     },
     "metadata": {},
     "output_type": "display_data"
    }
   ],
   "source": [
    "tcc.toggle_cell_code('orridas')\n",
    "# Iniciamos el data frame\n",
    "df_loteria = pd.DataFrame(columns = [\"numTablas\", \"numFichas\", \"distFichas\"\n",
    "                                     , \"fichasToWin\",\"tabToWin\"])\n",
    "# Configuración\n",
    "\n",
    "NdeFichas = 80\n",
    "nwin = 1\n",
    "nTab = 5 # 6 cartones\n",
    "dist = \"uniform\"\n",
    "rondas = 20\n",
    "\n",
    "for i in range(rondas):\n",
    "    temp_ftw = ronda_de_juego(nTab,nwin,NdeFichas)[0] # numero de cartones llenos y Numero de fichas \n",
    "    temp_ttw = ronda_de_juego(nTab,nwin,NdeFichas)[1] #           \"                       \"\n",
    "    data = pd.Series({\"numTablas\":1,\"numFichas\":NdeFichas\n",
    "                      , \"distFichas\":dist, \"fichasToWin\":temp_ftw\n",
    "                      ,\"tabToWin\":temp_ttw})\n",
    "    \n",
    "    \n",
    "    df_loteria = pd.concat([df_loteria,data.to_frame().T],ignore_index=True)\n",
    "    \n",
    "df_loteria.to_csv(r'data/df_loteria.csv', header = True, index = False)  # Convierte el Dataframe en un .csv"
   ]
  },
  {
   "cell_type": "markdown",
   "id": "43fdf850",
   "metadata": {},
   "source": [
    "**En el siguente archivo vamos a revisar los datos adquiridos de las simulaciones.**"
   ]
  },
  {
   "cell_type": "code",
   "execution_count": null,
   "id": "fa7e03c5",
   "metadata": {},
   "outputs": [],
   "source": []
  }
 ],
 "metadata": {
  "kernelspec": {
   "display_name": "Python 3 (ipykernel)",
   "language": "python",
   "name": "python3"
  },
  "language_info": {
   "codemirror_mode": {
    "name": "ipython",
    "version": 3
   },
   "file_extension": ".py",
   "mimetype": "text/x-python",
   "name": "python",
   "nbconvert_exporter": "python",
   "pygments_lexer": "ipython3",
   "version": "3.11.0"
  }
 },
 "nbformat": 4,
 "nbformat_minor": 5
}
